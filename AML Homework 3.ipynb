{
 "cells": [
  {
   "cell_type": "markdown",
   "id": "38922db6",
   "metadata": {},
   "source": [
    "# Homework 3\n",
    "\n",
    "## Part 1: Imbalanced Dataset\n",
    "This part of homework helps you practice to classify a highly imbalanced dataset in which the number of examples in one class greatly outnumbers the examples in another. You will work with the Credit Card Fraud Detection dataset hosted on Kaggle. The aim is to detect a mere 492 fraudulent transactions from 284,807 transactions in total. \n",
    "\n",
    "### Instructions\n",
    "\n",
    "Please push the .ipynb, .py, and .pdf to Github Classroom prior to the deadline. Please include your UNI as well.\n",
    "\n",
    "Due Date : TBD\n",
    "\n",
    "### Name: Please input your name\n",
    "\n",
    "### UNI: Please input your UNI\n",
    "\n",
    "## 0 Setup"
   ]
  },
  {
   "cell_type": "code",
   "execution_count": 1,
   "id": "1deb1020",
   "metadata": {},
   "outputs": [],
   "source": [
    "import numpy as np\n",
    "import pandas as pd\n",
    "import matplotlib.pyplot as plt\n",
    "import seaborn as sns\n",
    "\n",
    "import sklearn\n",
    "from sklearn.metrics import confusion_matrix\n",
    "from sklearn.model_selection import train_test_split\n",
    "from sklearn.preprocessing import StandardScaler\n",
    "from imblearn.pipeline import make_pipeline as imb_make_pipeline\n",
    "from imblearn.under_sampling import RandomUnderSampler\n",
    "from imblearn.over_sampling import RandomOverSampler\n",
    "from imblearn.over_sampling import SMOTE"
   ]
  },
  {
   "cell_type": "markdown",
   "id": "862a0f1a",
   "metadata": {},
   "source": [
    "## 1 Data processing and exploration\n",
    "Download the Kaggle Credit Card Fraud data set. Features V1, V2, … V28 are the principal components obtained with PCA, the only features which have not been transformed with PCA are 'Time' and 'Amount'. Feature 'Time' contains the seconds elapsed between each transaction and the first transaction in the dataset. The feature 'Amount' is the transaction Amount, this feature can be used for example-dependant cost-sensitive learning. Feature 'Class' is the response variable and it takes value 1 in case of fraud and 0 otherwise."
   ]
  },
  {
   "cell_type": "code",
   "execution_count": 2,
   "id": "0240df44",
   "metadata": {},
   "outputs": [
    {
     "data": {
      "text/html": [
       "<div>\n",
       "<style scoped>\n",
       "    .dataframe tbody tr th:only-of-type {\n",
       "        vertical-align: middle;\n",
       "    }\n",
       "\n",
       "    .dataframe tbody tr th {\n",
       "        vertical-align: top;\n",
       "    }\n",
       "\n",
       "    .dataframe thead th {\n",
       "        text-align: right;\n",
       "    }\n",
       "</style>\n",
       "<table border=\"1\" class=\"dataframe\">\n",
       "  <thead>\n",
       "    <tr style=\"text-align: right;\">\n",
       "      <th></th>\n",
       "      <th>Time</th>\n",
       "      <th>V1</th>\n",
       "      <th>V2</th>\n",
       "      <th>V3</th>\n",
       "      <th>V4</th>\n",
       "      <th>V5</th>\n",
       "      <th>V6</th>\n",
       "      <th>V7</th>\n",
       "      <th>V8</th>\n",
       "      <th>V9</th>\n",
       "      <th>...</th>\n",
       "      <th>V21</th>\n",
       "      <th>V22</th>\n",
       "      <th>V23</th>\n",
       "      <th>V24</th>\n",
       "      <th>V25</th>\n",
       "      <th>V26</th>\n",
       "      <th>V27</th>\n",
       "      <th>V28</th>\n",
       "      <th>Amount</th>\n",
       "      <th>Class</th>\n",
       "    </tr>\n",
       "  </thead>\n",
       "  <tbody>\n",
       "    <tr>\n",
       "      <th>0</th>\n",
       "      <td>0.0</td>\n",
       "      <td>-1.359807</td>\n",
       "      <td>-0.072781</td>\n",
       "      <td>2.536347</td>\n",
       "      <td>1.378155</td>\n",
       "      <td>-0.338321</td>\n",
       "      <td>0.462388</td>\n",
       "      <td>0.239599</td>\n",
       "      <td>0.098698</td>\n",
       "      <td>0.363787</td>\n",
       "      <td>...</td>\n",
       "      <td>-0.018307</td>\n",
       "      <td>0.277838</td>\n",
       "      <td>-0.110474</td>\n",
       "      <td>0.066928</td>\n",
       "      <td>0.128539</td>\n",
       "      <td>-0.189115</td>\n",
       "      <td>0.133558</td>\n",
       "      <td>-0.021053</td>\n",
       "      <td>149.62</td>\n",
       "      <td>0</td>\n",
       "    </tr>\n",
       "    <tr>\n",
       "      <th>1</th>\n",
       "      <td>0.0</td>\n",
       "      <td>1.191857</td>\n",
       "      <td>0.266151</td>\n",
       "      <td>0.166480</td>\n",
       "      <td>0.448154</td>\n",
       "      <td>0.060018</td>\n",
       "      <td>-0.082361</td>\n",
       "      <td>-0.078803</td>\n",
       "      <td>0.085102</td>\n",
       "      <td>-0.255425</td>\n",
       "      <td>...</td>\n",
       "      <td>-0.225775</td>\n",
       "      <td>-0.638672</td>\n",
       "      <td>0.101288</td>\n",
       "      <td>-0.339846</td>\n",
       "      <td>0.167170</td>\n",
       "      <td>0.125895</td>\n",
       "      <td>-0.008983</td>\n",
       "      <td>0.014724</td>\n",
       "      <td>2.69</td>\n",
       "      <td>0</td>\n",
       "    </tr>\n",
       "    <tr>\n",
       "      <th>2</th>\n",
       "      <td>1.0</td>\n",
       "      <td>-1.358354</td>\n",
       "      <td>-1.340163</td>\n",
       "      <td>1.773209</td>\n",
       "      <td>0.379780</td>\n",
       "      <td>-0.503198</td>\n",
       "      <td>1.800499</td>\n",
       "      <td>0.791461</td>\n",
       "      <td>0.247676</td>\n",
       "      <td>-1.514654</td>\n",
       "      <td>...</td>\n",
       "      <td>0.247998</td>\n",
       "      <td>0.771679</td>\n",
       "      <td>0.909412</td>\n",
       "      <td>-0.689281</td>\n",
       "      <td>-0.327642</td>\n",
       "      <td>-0.139097</td>\n",
       "      <td>-0.055353</td>\n",
       "      <td>-0.059752</td>\n",
       "      <td>378.66</td>\n",
       "      <td>0</td>\n",
       "    </tr>\n",
       "    <tr>\n",
       "      <th>3</th>\n",
       "      <td>1.0</td>\n",
       "      <td>-0.966272</td>\n",
       "      <td>-0.185226</td>\n",
       "      <td>1.792993</td>\n",
       "      <td>-0.863291</td>\n",
       "      <td>-0.010309</td>\n",
       "      <td>1.247203</td>\n",
       "      <td>0.237609</td>\n",
       "      <td>0.377436</td>\n",
       "      <td>-1.387024</td>\n",
       "      <td>...</td>\n",
       "      <td>-0.108300</td>\n",
       "      <td>0.005274</td>\n",
       "      <td>-0.190321</td>\n",
       "      <td>-1.175575</td>\n",
       "      <td>0.647376</td>\n",
       "      <td>-0.221929</td>\n",
       "      <td>0.062723</td>\n",
       "      <td>0.061458</td>\n",
       "      <td>123.50</td>\n",
       "      <td>0</td>\n",
       "    </tr>\n",
       "    <tr>\n",
       "      <th>4</th>\n",
       "      <td>2.0</td>\n",
       "      <td>-1.158233</td>\n",
       "      <td>0.877737</td>\n",
       "      <td>1.548718</td>\n",
       "      <td>0.403034</td>\n",
       "      <td>-0.407193</td>\n",
       "      <td>0.095921</td>\n",
       "      <td>0.592941</td>\n",
       "      <td>-0.270533</td>\n",
       "      <td>0.817739</td>\n",
       "      <td>...</td>\n",
       "      <td>-0.009431</td>\n",
       "      <td>0.798278</td>\n",
       "      <td>-0.137458</td>\n",
       "      <td>0.141267</td>\n",
       "      <td>-0.206010</td>\n",
       "      <td>0.502292</td>\n",
       "      <td>0.219422</td>\n",
       "      <td>0.215153</td>\n",
       "      <td>69.99</td>\n",
       "      <td>0</td>\n",
       "    </tr>\n",
       "  </tbody>\n",
       "</table>\n",
       "<p>5 rows × 31 columns</p>\n",
       "</div>"
      ],
      "text/plain": [
       "   Time        V1        V2        V3        V4        V5        V6        V7  \\\n",
       "0   0.0 -1.359807 -0.072781  2.536347  1.378155 -0.338321  0.462388  0.239599   \n",
       "1   0.0  1.191857  0.266151  0.166480  0.448154  0.060018 -0.082361 -0.078803   \n",
       "2   1.0 -1.358354 -1.340163  1.773209  0.379780 -0.503198  1.800499  0.791461   \n",
       "3   1.0 -0.966272 -0.185226  1.792993 -0.863291 -0.010309  1.247203  0.237609   \n",
       "4   2.0 -1.158233  0.877737  1.548718  0.403034 -0.407193  0.095921  0.592941   \n",
       "\n",
       "         V8        V9  ...       V21       V22       V23       V24       V25  \\\n",
       "0  0.098698  0.363787  ... -0.018307  0.277838 -0.110474  0.066928  0.128539   \n",
       "1  0.085102 -0.255425  ... -0.225775 -0.638672  0.101288 -0.339846  0.167170   \n",
       "2  0.247676 -1.514654  ...  0.247998  0.771679  0.909412 -0.689281 -0.327642   \n",
       "3  0.377436 -1.387024  ... -0.108300  0.005274 -0.190321 -1.175575  0.647376   \n",
       "4 -0.270533  0.817739  ... -0.009431  0.798278 -0.137458  0.141267 -0.206010   \n",
       "\n",
       "        V26       V27       V28  Amount  Class  \n",
       "0 -0.189115  0.133558 -0.021053  149.62      0  \n",
       "1  0.125895 -0.008983  0.014724    2.69      0  \n",
       "2 -0.139097 -0.055353 -0.059752  378.66      0  \n",
       "3 -0.221929  0.062723  0.061458  123.50      0  \n",
       "4  0.502292  0.219422  0.215153   69.99      0  \n",
       "\n",
       "[5 rows x 31 columns]"
      ]
     },
     "execution_count": 2,
     "metadata": {},
     "output_type": "execute_result"
    }
   ],
   "source": [
    "raw_df = pd.read_csv('https://storage.googleapis.com/download.tensorflow.org/data/creditcard.csv')\n",
    "raw_df.head()"
   ]
  },
  {
   "cell_type": "markdown",
   "id": "b50812c7",
   "metadata": {},
   "source": [
    "### 1.1 Examine the class label imbalance\n",
    "Let's look at the dataset imbalance:\n",
    "\n",
    "**Q1. How many observations are there in this dataset? How many of them have positive label (labeled as 1)?**"
   ]
  },
  {
   "cell_type": "code",
   "execution_count": 3,
   "id": "6d559d7f",
   "metadata": {},
   "outputs": [],
   "source": [
    "# Your Code Here"
   ]
  },
  {
   "cell_type": "markdown",
   "id": "82d7b903",
   "metadata": {},
   "source": [
    "### 1.2 Clean, split and normalize the data\n",
    "The raw data has a few issues. First the `Time` and `Amount` columns are too variable to use directly. Drop the `Time` column (since it's not clear what it means) and take the log of the `Amount` column to reduce its range."
   ]
  },
  {
   "cell_type": "code",
   "execution_count": 4,
   "id": "99d8d317",
   "metadata": {},
   "outputs": [],
   "source": [
    "cleaned_df = raw_df.copy()\n",
    "\n",
    "# You don't want the `Time` column.\n",
    "cleaned_df.pop('Time')\n",
    "\n",
    "# The `Amount` column covers a huge range. Convert to log-space.\n",
    "eps = 0.001 # 0 => 0.1¢\n",
    "cleaned_df['Log Ammount'] = np.log(cleaned_df.pop('Amount')+eps)"
   ]
  },
  {
   "cell_type": "markdown",
   "id": "ba9cb151",
   "metadata": {},
   "source": [
    "**Q2. Split the dataset into development and test sets. Please set test size as 0.2 and random state as 42.**"
   ]
  },
  {
   "cell_type": "code",
   "execution_count": 5,
   "id": "590fc600",
   "metadata": {},
   "outputs": [],
   "source": [
    "# Your Code Here"
   ]
  },
  {
   "cell_type": "markdown",
   "id": "417639c3",
   "metadata": {},
   "source": [
    "**Q3. Normalize the input features using the sklearn StandardScaler. Print the shape of your development features and test features.**"
   ]
  },
  {
   "cell_type": "code",
   "execution_count": 6,
   "id": "b871286b",
   "metadata": {},
   "outputs": [],
   "source": [
    "# Your Code Here"
   ]
  },
  {
   "cell_type": "markdown",
   "id": "655e521b",
   "metadata": {},
   "source": [
    "### 1.3 Define the model and metrics\n",
    "**Q4. First, fit a default logistic regression model. Print the AUC and average precision of 5-fold cross validation.**"
   ]
  },
  {
   "cell_type": "code",
   "execution_count": 7,
   "id": "6dc1795f",
   "metadata": {},
   "outputs": [],
   "source": [
    "# Your Code Here"
   ]
  },
  {
   "cell_type": "markdown",
   "id": "b1af59f7",
   "metadata": {},
   "source": [
    "**Q5.1. Perform random under sampling on the development set. What is the shape of your development features? How many  positive and negative labels are there in your development set? (Please set random state as 42 when performing random under sampling)**"
   ]
  },
  {
   "cell_type": "code",
   "execution_count": 8,
   "id": "bb7a5bf5",
   "metadata": {},
   "outputs": [],
   "source": [
    "# Your Code Here"
   ]
  },
  {
   "cell_type": "markdown",
   "id": "547e5ac6",
   "metadata": {},
   "source": [
    "**Q5.2. Fit a default logistic regression model using under sampling. Print the AUC and average precision of 5-fold cross validation. (Please set random state as 42 when performing random under sampling)**"
   ]
  },
  {
   "cell_type": "code",
   "execution_count": 9,
   "id": "b65158df",
   "metadata": {},
   "outputs": [],
   "source": [
    "# Your Code Here"
   ]
  },
  {
   "cell_type": "markdown",
   "id": "f069bedd",
   "metadata": {},
   "source": [
    "**Q6.1. Perform random over sampling on the development set. What is the shape of your development features? How many positive and negative labels are there in your development set? (Please set random state as 42 when performing random over sampling)**"
   ]
  },
  {
   "cell_type": "code",
   "execution_count": 10,
   "id": "fab92896",
   "metadata": {},
   "outputs": [],
   "source": [
    "# Your Code Here"
   ]
  },
  {
   "cell_type": "markdown",
   "id": "a11dd623",
   "metadata": {},
   "source": [
    "**Q6.2. Fit a default logistic regression model using over sampling. Print the AUC and average precision of 5-fold cross validation. (Please set random state as 42 when performing random over sampling)**"
   ]
  },
  {
   "cell_type": "code",
   "execution_count": 11,
   "id": "d4412e97",
   "metadata": {},
   "outputs": [],
   "source": [
    "# Your Code Here"
   ]
  },
  {
   "cell_type": "markdown",
   "id": "82053aff",
   "metadata": {},
   "source": [
    "**Q7.1. Perform Synthetic Minority Oversampling Technique (SMOTE) on the development set. What is the shape of your development features? How many positive and negative labels are there in your development set? (Please set random state as 42 when performing SMOTE)**"
   ]
  },
  {
   "cell_type": "code",
   "execution_count": 12,
   "id": "a43690e5",
   "metadata": {},
   "outputs": [],
   "source": [
    "# Your Code Here"
   ]
  },
  {
   "cell_type": "markdown",
   "id": "ce39aabc",
   "metadata": {},
   "source": [
    "**Q7.2. Fit a default logistic regression model using SMOTE. Print the AUC and average precision of 5-fold cross validation. (Please set random state as 42 when performing SMOTE)**"
   ]
  },
  {
   "cell_type": "code",
   "execution_count": 13,
   "id": "3cfae36e",
   "metadata": {},
   "outputs": [],
   "source": [
    "# Your Code Here"
   ]
  },
  {
   "cell_type": "markdown",
   "id": "9e7e39ef",
   "metadata": {},
   "source": [
    "**Q8. Plot confusion matrices on the test set for all four models above. Comment on your result.**"
   ]
  },
  {
   "cell_type": "code",
   "execution_count": 14,
   "id": "56f92304",
   "metadata": {},
   "outputs": [],
   "source": [
    "# Your Code Here"
   ]
  },
  {
   "cell_type": "markdown",
   "id": "42de6001",
   "metadata": {},
   "source": [
    "**Q9. Plot the ROC for all four models above in a single plot. Make sure to label the axes and legend. Comment on your result.**"
   ]
  },
  {
   "cell_type": "code",
   "execution_count": 15,
   "id": "ec8d48a3",
   "metadata": {},
   "outputs": [],
   "source": [
    "# Your Code Here"
   ]
  },
  {
   "cell_type": "markdown",
   "id": "d21c08cd",
   "metadata": {},
   "source": [
    "**Q10. Plot the precision-recall curve for all four models above in a single plot. Make sure to label the axes and legend. Comment on your result.**"
   ]
  },
  {
   "cell_type": "code",
   "execution_count": 16,
   "id": "e62afae8",
   "metadata": {},
   "outputs": [],
   "source": [
    "# Your Code Here"
   ]
  },
  {
   "cell_type": "markdown",
   "id": "5c8228e9",
   "metadata": {},
   "source": [
    "**Q11. Adding class weights to a logistic regression model. Print the AUC and average precision of 5-fold cross validation. Also, plot its confusion matrix on test set.**"
   ]
  },
  {
   "cell_type": "code",
   "execution_count": 17,
   "id": "f9893354",
   "metadata": {},
   "outputs": [],
   "source": [
    "# Your Code Here"
   ]
  },
  {
   "cell_type": "markdown",
   "id": "9b340c6d",
   "metadata": {},
   "source": [
    "**Q12. Plot the ROC and the precision-recall curve for default Logistic without any sampling method and this balanced Logistic model in two single plots. Make sure to label the axes and legend. Comment on your result.**"
   ]
  },
  {
   "cell_type": "code",
   "execution_count": 18,
   "id": "e1d1f3d7",
   "metadata": {},
   "outputs": [],
   "source": [
    "# Your Code Here"
   ]
  },
  {
   "cell_type": "markdown",
   "id": "85124691",
   "metadata": {
    "id": "85124691"
   },
   "source": [
    "## Part 2: Unsupervised Learning\n",
    "\n",
    "In this part, we will be applying unsupervised learning approaches to a problem in computational biology. Specifically, we will be analyzing single-cell genomic sequencing data. Single-cell genomics is a set of revolutionary new technologies which can profile the genome of a specimen (tissue, blood, etc.) at the resolution of individual cells. This increased granularity can help capture intercellular heterogeneity, key to better understanding and treating complex genetic diseases such as cancer and Alzheimer's. \n",
    "\n",
    "<img src=\"https://cdn.10xgenomics.com/image/upload/v1574196658/blog/singlecell-v.-bulk-image.png\" width=\"800px\"/>\n",
    "\n",
    "<center>Source: 10xgenomics.com/blog/single-cell-rna-seq-an-introductory-overview-and-tools-for-getting-started</center>\n",
    "\n",
    "A common challenge of genomic datasets is their high-dimensionality: a single observation (a cell, in the case of single-cell data) may have tens of thousands of gene expression features. Fortunately, biology offers a lot of structure - different genes work together in pathways and are co-regulated by gene regulatory networks. Unsupervised learning is widely used to discover this intrinsic structure and prepare the data for further analysis."
   ]
  },
  {
   "cell_type": "markdown",
   "id": "68a52358",
   "metadata": {
    "id": "68a52358"
   },
   "source": [
    "### Dataset: single-cell RNASeq of mouse brain cells"
   ]
  },
  {
   "cell_type": "markdown",
   "id": "33d4ff5e",
   "metadata": {
    "id": "33d4ff5e"
   },
   "source": [
    "We will be working with a single-cell RNASeq dataset of mouse brain cells. In the following gene expression matrix, each row represents a cell and each column represents a gene. Each entry in the matrix is a normalized gene expression count - a higher value means that the gene is expressed more in that cell. The dataset has been pre-processed using various quality control and normalization methods for single-cell data. \n",
    "\n",
    "Data source is on Coursework."
   ]
  },
  {
   "cell_type": "code",
   "execution_count": 19,
   "id": "026c0067",
   "metadata": {
    "ExecuteTime": {
     "end_time": "2021-11-16T21:45:46.294686Z",
     "start_time": "2021-11-16T21:45:27.205130Z"
    },
    "colab": {
     "base_uri": "https://localhost:8080/",
     "height": 475
    },
    "executionInfo": {
     "elapsed": 16189,
     "status": "ok",
     "timestamp": 1638932616411,
     "user": {
      "displayName": "Vaibhav Bagri",
      "photoUrl": "https://lh3.googleusercontent.com/a-/AOh14Ghw6hfPedFogHWOSQR18xC_6FJkdR3DEdY3wb45=s64",
      "userId": "06256819027384292082"
     },
     "user_tz": 300
    },
    "id": "026c0067",
    "outputId": "14a7a0ad-ae23-4dbc-9315-720db783a716"
   },
   "outputs": [
    {
     "data": {
      "text/html": [
       "<div>\n",
       "<style scoped>\n",
       "    .dataframe tbody tr th:only-of-type {\n",
       "        vertical-align: middle;\n",
       "    }\n",
       "\n",
       "    .dataframe tbody tr th {\n",
       "        vertical-align: top;\n",
       "    }\n",
       "\n",
       "    .dataframe thead th {\n",
       "        text-align: right;\n",
       "    }\n",
       "</style>\n",
       "<table border=\"1\" class=\"dataframe\">\n",
       "  <thead>\n",
       "    <tr style=\"text-align: right;\">\n",
       "      <th></th>\n",
       "      <th>0610005C13Rik</th>\n",
       "      <th>0610007C21Rik</th>\n",
       "      <th>0610007L01Rik</th>\n",
       "      <th>0610007N19Rik</th>\n",
       "      <th>0610007P08Rik</th>\n",
       "      <th>0610007P14Rik</th>\n",
       "      <th>0610007P22Rik</th>\n",
       "      <th>0610009B14Rik</th>\n",
       "      <th>0610009B22Rik</th>\n",
       "      <th>0610009D07Rik</th>\n",
       "      <th>...</th>\n",
       "      <th>Zwint</th>\n",
       "      <th>Zxda</th>\n",
       "      <th>Zxdb</th>\n",
       "      <th>Zxdc</th>\n",
       "      <th>Zyg11b</th>\n",
       "      <th>Zyx</th>\n",
       "      <th>Zzef1</th>\n",
       "      <th>Zzz3</th>\n",
       "      <th>a</th>\n",
       "      <th>l7Rn6</th>\n",
       "    </tr>\n",
       "    <tr>\n",
       "      <th>cell</th>\n",
       "      <th></th>\n",
       "      <th></th>\n",
       "      <th></th>\n",
       "      <th></th>\n",
       "      <th></th>\n",
       "      <th></th>\n",
       "      <th></th>\n",
       "      <th></th>\n",
       "      <th></th>\n",
       "      <th></th>\n",
       "      <th></th>\n",
       "      <th></th>\n",
       "      <th></th>\n",
       "      <th></th>\n",
       "      <th></th>\n",
       "      <th></th>\n",
       "      <th></th>\n",
       "      <th></th>\n",
       "      <th></th>\n",
       "      <th></th>\n",
       "      <th></th>\n",
       "    </tr>\n",
       "  </thead>\n",
       "  <tbody>\n",
       "    <tr>\n",
       "      <th>A1.B003290.3_38_F.1.1</th>\n",
       "      <td>-0.08093</td>\n",
       "      <td>0.7856</td>\n",
       "      <td>1.334</td>\n",
       "      <td>-0.2727</td>\n",
       "      <td>-0.4153</td>\n",
       "      <td>-0.8310</td>\n",
       "      <td>-0.4692</td>\n",
       "      <td>-0.03146</td>\n",
       "      <td>-0.6035</td>\n",
       "      <td>-1.021000</td>\n",
       "      <td>...</td>\n",
       "      <td>-0.7227</td>\n",
       "      <td>-0.2145</td>\n",
       "      <td>-0.1927</td>\n",
       "      <td>-0.4163</td>\n",
       "      <td>-0.5923</td>\n",
       "      <td>-0.5913</td>\n",
       "      <td>-0.553</td>\n",
       "      <td>-0.5654</td>\n",
       "      <td>-0.04385</td>\n",
       "      <td>1.567</td>\n",
       "    </tr>\n",
       "    <tr>\n",
       "      <th>A1.B003728.3_56_F.1.1</th>\n",
       "      <td>-0.08093</td>\n",
       "      <td>-1.4840</td>\n",
       "      <td>-0.576</td>\n",
       "      <td>-0.2727</td>\n",
       "      <td>-0.4153</td>\n",
       "      <td>1.8350</td>\n",
       "      <td>-0.4692</td>\n",
       "      <td>-0.03146</td>\n",
       "      <td>-0.6035</td>\n",
       "      <td>-1.021000</td>\n",
       "      <td>...</td>\n",
       "      <td>-0.7227</td>\n",
       "      <td>-0.2145</td>\n",
       "      <td>-0.1927</td>\n",
       "      <td>-0.4163</td>\n",
       "      <td>-0.5923</td>\n",
       "      <td>-0.5913</td>\n",
       "      <td>-0.553</td>\n",
       "      <td>-0.5654</td>\n",
       "      <td>-0.04385</td>\n",
       "      <td>-0.681</td>\n",
       "    </tr>\n",
       "    <tr>\n",
       "      <th>A1.MAA000560.3_10_M.1.1</th>\n",
       "      <td>-0.08093</td>\n",
       "      <td>0.6300</td>\n",
       "      <td>-0.576</td>\n",
       "      <td>-0.2727</td>\n",
       "      <td>-0.4153</td>\n",
       "      <td>-0.2084</td>\n",
       "      <td>-0.4692</td>\n",
       "      <td>-0.03146</td>\n",
       "      <td>-0.6035</td>\n",
       "      <td>1.253000</td>\n",
       "      <td>...</td>\n",
       "      <td>1.3150</td>\n",
       "      <td>-0.2145</td>\n",
       "      <td>-0.1927</td>\n",
       "      <td>-0.4163</td>\n",
       "      <td>-0.5923</td>\n",
       "      <td>-0.5913</td>\n",
       "      <td>2.072</td>\n",
       "      <td>-0.5654</td>\n",
       "      <td>-0.04385</td>\n",
       "      <td>1.260</td>\n",
       "    </tr>\n",
       "    <tr>\n",
       "      <th>A1.MAA000564.3_10_M.1.1</th>\n",
       "      <td>-0.08093</td>\n",
       "      <td>0.3809</td>\n",
       "      <td>1.782</td>\n",
       "      <td>-0.2727</td>\n",
       "      <td>-0.4153</td>\n",
       "      <td>1.0300</td>\n",
       "      <td>-0.4692</td>\n",
       "      <td>-0.03146</td>\n",
       "      <td>1.2640</td>\n",
       "      <td>-1.021000</td>\n",
       "      <td>...</td>\n",
       "      <td>-0.7227</td>\n",
       "      <td>-0.2145</td>\n",
       "      <td>-0.1927</td>\n",
       "      <td>-0.4163</td>\n",
       "      <td>-0.5923</td>\n",
       "      <td>2.3900</td>\n",
       "      <td>-0.553</td>\n",
       "      <td>0.1697</td>\n",
       "      <td>-0.04385</td>\n",
       "      <td>-0.681</td>\n",
       "    </tr>\n",
       "    <tr>\n",
       "      <th>A1.MAA000923.3_9_M.1.1</th>\n",
       "      <td>-0.08093</td>\n",
       "      <td>0.5654</td>\n",
       "      <td>-0.576</td>\n",
       "      <td>-0.2727</td>\n",
       "      <td>-0.4153</td>\n",
       "      <td>-0.8310</td>\n",
       "      <td>-0.4692</td>\n",
       "      <td>-0.03146</td>\n",
       "      <td>-0.6035</td>\n",
       "      <td>-1.021000</td>\n",
       "      <td>...</td>\n",
       "      <td>-0.7227</td>\n",
       "      <td>-0.2145</td>\n",
       "      <td>-0.1927</td>\n",
       "      <td>-0.4163</td>\n",
       "      <td>2.3180</td>\n",
       "      <td>-0.5913</td>\n",
       "      <td>-0.553</td>\n",
       "      <td>-0.5654</td>\n",
       "      <td>-0.04385</td>\n",
       "      <td>-0.681</td>\n",
       "    </tr>\n",
       "    <tr>\n",
       "      <th>...</th>\n",
       "      <td>...</td>\n",
       "      <td>...</td>\n",
       "      <td>...</td>\n",
       "      <td>...</td>\n",
       "      <td>...</td>\n",
       "      <td>...</td>\n",
       "      <td>...</td>\n",
       "      <td>...</td>\n",
       "      <td>...</td>\n",
       "      <td>...</td>\n",
       "      <td>...</td>\n",
       "      <td>...</td>\n",
       "      <td>...</td>\n",
       "      <td>...</td>\n",
       "      <td>...</td>\n",
       "      <td>...</td>\n",
       "      <td>...</td>\n",
       "      <td>...</td>\n",
       "      <td>...</td>\n",
       "      <td>...</td>\n",
       "      <td>...</td>\n",
       "    </tr>\n",
       "    <tr>\n",
       "      <th>E2.MAA000902.3_11_M.1.1</th>\n",
       "      <td>14.98400</td>\n",
       "      <td>1.1550</td>\n",
       "      <td>-0.576</td>\n",
       "      <td>-0.2727</td>\n",
       "      <td>-0.4153</td>\n",
       "      <td>0.7530</td>\n",
       "      <td>-0.4692</td>\n",
       "      <td>-0.03146</td>\n",
       "      <td>-0.6035</td>\n",
       "      <td>-1.021000</td>\n",
       "      <td>...</td>\n",
       "      <td>1.4260</td>\n",
       "      <td>-0.2145</td>\n",
       "      <td>-0.1927</td>\n",
       "      <td>-0.4163</td>\n",
       "      <td>-0.5923</td>\n",
       "      <td>-0.5913</td>\n",
       "      <td>-0.553</td>\n",
       "      <td>-0.5654</td>\n",
       "      <td>-0.04385</td>\n",
       "      <td>1.728</td>\n",
       "    </tr>\n",
       "    <tr>\n",
       "      <th>E2.MAA000926.3_9_M.1.1</th>\n",
       "      <td>-0.08093</td>\n",
       "      <td>-1.4840</td>\n",
       "      <td>-0.576</td>\n",
       "      <td>-0.2727</td>\n",
       "      <td>-0.4153</td>\n",
       "      <td>1.4720</td>\n",
       "      <td>-0.4692</td>\n",
       "      <td>-0.03146</td>\n",
       "      <td>1.8120</td>\n",
       "      <td>1.079000</td>\n",
       "      <td>...</td>\n",
       "      <td>-0.7227</td>\n",
       "      <td>-0.2145</td>\n",
       "      <td>-0.1927</td>\n",
       "      <td>-0.4163</td>\n",
       "      <td>0.2422</td>\n",
       "      <td>-0.5913</td>\n",
       "      <td>-0.553</td>\n",
       "      <td>1.6060</td>\n",
       "      <td>-0.04385</td>\n",
       "      <td>-0.681</td>\n",
       "    </tr>\n",
       "    <tr>\n",
       "      <th>E2.MAA000932.3_11_M.1.1</th>\n",
       "      <td>-0.08093</td>\n",
       "      <td>0.5703</td>\n",
       "      <td>-0.576</td>\n",
       "      <td>-0.2727</td>\n",
       "      <td>-0.4153</td>\n",
       "      <td>-0.8310</td>\n",
       "      <td>-0.4692</td>\n",
       "      <td>-0.03146</td>\n",
       "      <td>-0.6035</td>\n",
       "      <td>-0.003473</td>\n",
       "      <td>...</td>\n",
       "      <td>-0.7227</td>\n",
       "      <td>-0.2145</td>\n",
       "      <td>-0.1927</td>\n",
       "      <td>-0.4163</td>\n",
       "      <td>-0.5923</td>\n",
       "      <td>-0.5913</td>\n",
       "      <td>-0.553</td>\n",
       "      <td>-0.5654</td>\n",
       "      <td>-0.04385</td>\n",
       "      <td>2.074</td>\n",
       "    </tr>\n",
       "    <tr>\n",
       "      <th>E2.MAA000944.3_9_M.1.1</th>\n",
       "      <td>-0.08093</td>\n",
       "      <td>0.3389</td>\n",
       "      <td>-0.576</td>\n",
       "      <td>-0.2727</td>\n",
       "      <td>-0.4153</td>\n",
       "      <td>-0.2434</td>\n",
       "      <td>-0.4692</td>\n",
       "      <td>-0.03146</td>\n",
       "      <td>-0.6035</td>\n",
       "      <td>1.281000</td>\n",
       "      <td>...</td>\n",
       "      <td>1.2160</td>\n",
       "      <td>-0.2145</td>\n",
       "      <td>-0.1927</td>\n",
       "      <td>-0.4163</td>\n",
       "      <td>-0.5923</td>\n",
       "      <td>-0.5913</td>\n",
       "      <td>-0.553</td>\n",
       "      <td>1.3070</td>\n",
       "      <td>-0.04385</td>\n",
       "      <td>-0.681</td>\n",
       "    </tr>\n",
       "    <tr>\n",
       "      <th>E2.MAA001894.3_39_F.1.1</th>\n",
       "      <td>-0.08093</td>\n",
       "      <td>0.3816</td>\n",
       "      <td>-0.576</td>\n",
       "      <td>-0.2727</td>\n",
       "      <td>-0.4153</td>\n",
       "      <td>-0.8310</td>\n",
       "      <td>-0.4692</td>\n",
       "      <td>-0.03146</td>\n",
       "      <td>-0.6035</td>\n",
       "      <td>1.106000</td>\n",
       "      <td>...</td>\n",
       "      <td>-0.7227</td>\n",
       "      <td>-0.2145</td>\n",
       "      <td>-0.1927</td>\n",
       "      <td>-0.4163</td>\n",
       "      <td>-0.5923</td>\n",
       "      <td>-0.5913</td>\n",
       "      <td>-0.553</td>\n",
       "      <td>-0.5654</td>\n",
       "      <td>-0.04385</td>\n",
       "      <td>1.628</td>\n",
       "    </tr>\n",
       "  </tbody>\n",
       "</table>\n",
       "<p>1000 rows × 18585 columns</p>\n",
       "</div>"
      ],
      "text/plain": [
       "                         0610005C13Rik  0610007C21Rik  0610007L01Rik  \\\n",
       "cell                                                                   \n",
       "A1.B003290.3_38_F.1.1         -0.08093         0.7856          1.334   \n",
       "A1.B003728.3_56_F.1.1         -0.08093        -1.4840         -0.576   \n",
       "A1.MAA000560.3_10_M.1.1       -0.08093         0.6300         -0.576   \n",
       "A1.MAA000564.3_10_M.1.1       -0.08093         0.3809          1.782   \n",
       "A1.MAA000923.3_9_M.1.1        -0.08093         0.5654         -0.576   \n",
       "...                                ...            ...            ...   \n",
       "E2.MAA000902.3_11_M.1.1       14.98400         1.1550         -0.576   \n",
       "E2.MAA000926.3_9_M.1.1        -0.08093        -1.4840         -0.576   \n",
       "E2.MAA000932.3_11_M.1.1       -0.08093         0.5703         -0.576   \n",
       "E2.MAA000944.3_9_M.1.1        -0.08093         0.3389         -0.576   \n",
       "E2.MAA001894.3_39_F.1.1       -0.08093         0.3816         -0.576   \n",
       "\n",
       "                         0610007N19Rik  0610007P08Rik  0610007P14Rik  \\\n",
       "cell                                                                   \n",
       "A1.B003290.3_38_F.1.1          -0.2727        -0.4153        -0.8310   \n",
       "A1.B003728.3_56_F.1.1          -0.2727        -0.4153         1.8350   \n",
       "A1.MAA000560.3_10_M.1.1        -0.2727        -0.4153        -0.2084   \n",
       "A1.MAA000564.3_10_M.1.1        -0.2727        -0.4153         1.0300   \n",
       "A1.MAA000923.3_9_M.1.1         -0.2727        -0.4153        -0.8310   \n",
       "...                                ...            ...            ...   \n",
       "E2.MAA000902.3_11_M.1.1        -0.2727        -0.4153         0.7530   \n",
       "E2.MAA000926.3_9_M.1.1         -0.2727        -0.4153         1.4720   \n",
       "E2.MAA000932.3_11_M.1.1        -0.2727        -0.4153        -0.8310   \n",
       "E2.MAA000944.3_9_M.1.1         -0.2727        -0.4153        -0.2434   \n",
       "E2.MAA001894.3_39_F.1.1        -0.2727        -0.4153        -0.8310   \n",
       "\n",
       "                         0610007P22Rik  0610009B14Rik  0610009B22Rik  \\\n",
       "cell                                                                   \n",
       "A1.B003290.3_38_F.1.1          -0.4692       -0.03146        -0.6035   \n",
       "A1.B003728.3_56_F.1.1          -0.4692       -0.03146        -0.6035   \n",
       "A1.MAA000560.3_10_M.1.1        -0.4692       -0.03146        -0.6035   \n",
       "A1.MAA000564.3_10_M.1.1        -0.4692       -0.03146         1.2640   \n",
       "A1.MAA000923.3_9_M.1.1         -0.4692       -0.03146        -0.6035   \n",
       "...                                ...            ...            ...   \n",
       "E2.MAA000902.3_11_M.1.1        -0.4692       -0.03146        -0.6035   \n",
       "E2.MAA000926.3_9_M.1.1         -0.4692       -0.03146         1.8120   \n",
       "E2.MAA000932.3_11_M.1.1        -0.4692       -0.03146        -0.6035   \n",
       "E2.MAA000944.3_9_M.1.1         -0.4692       -0.03146        -0.6035   \n",
       "E2.MAA001894.3_39_F.1.1        -0.4692       -0.03146        -0.6035   \n",
       "\n",
       "                         0610009D07Rik  ...   Zwint    Zxda    Zxdb    Zxdc  \\\n",
       "cell                                    ...                                   \n",
       "A1.B003290.3_38_F.1.1        -1.021000  ... -0.7227 -0.2145 -0.1927 -0.4163   \n",
       "A1.B003728.3_56_F.1.1        -1.021000  ... -0.7227 -0.2145 -0.1927 -0.4163   \n",
       "A1.MAA000560.3_10_M.1.1       1.253000  ...  1.3150 -0.2145 -0.1927 -0.4163   \n",
       "A1.MAA000564.3_10_M.1.1      -1.021000  ... -0.7227 -0.2145 -0.1927 -0.4163   \n",
       "A1.MAA000923.3_9_M.1.1       -1.021000  ... -0.7227 -0.2145 -0.1927 -0.4163   \n",
       "...                                ...  ...     ...     ...     ...     ...   \n",
       "E2.MAA000902.3_11_M.1.1      -1.021000  ...  1.4260 -0.2145 -0.1927 -0.4163   \n",
       "E2.MAA000926.3_9_M.1.1        1.079000  ... -0.7227 -0.2145 -0.1927 -0.4163   \n",
       "E2.MAA000932.3_11_M.1.1      -0.003473  ... -0.7227 -0.2145 -0.1927 -0.4163   \n",
       "E2.MAA000944.3_9_M.1.1        1.281000  ...  1.2160 -0.2145 -0.1927 -0.4163   \n",
       "E2.MAA001894.3_39_F.1.1       1.106000  ... -0.7227 -0.2145 -0.1927 -0.4163   \n",
       "\n",
       "                         Zyg11b     Zyx  Zzef1    Zzz3        a  l7Rn6  \n",
       "cell                                                                    \n",
       "A1.B003290.3_38_F.1.1   -0.5923 -0.5913 -0.553 -0.5654 -0.04385  1.567  \n",
       "A1.B003728.3_56_F.1.1   -0.5923 -0.5913 -0.553 -0.5654 -0.04385 -0.681  \n",
       "A1.MAA000560.3_10_M.1.1 -0.5923 -0.5913  2.072 -0.5654 -0.04385  1.260  \n",
       "A1.MAA000564.3_10_M.1.1 -0.5923  2.3900 -0.553  0.1697 -0.04385 -0.681  \n",
       "A1.MAA000923.3_9_M.1.1   2.3180 -0.5913 -0.553 -0.5654 -0.04385 -0.681  \n",
       "...                         ...     ...    ...     ...      ...    ...  \n",
       "E2.MAA000902.3_11_M.1.1 -0.5923 -0.5913 -0.553 -0.5654 -0.04385  1.728  \n",
       "E2.MAA000926.3_9_M.1.1   0.2422 -0.5913 -0.553  1.6060 -0.04385 -0.681  \n",
       "E2.MAA000932.3_11_M.1.1 -0.5923 -0.5913 -0.553 -0.5654 -0.04385  2.074  \n",
       "E2.MAA000944.3_9_M.1.1  -0.5923 -0.5913 -0.553  1.3070 -0.04385 -0.681  \n",
       "E2.MAA001894.3_39_F.1.1 -0.5923 -0.5913 -0.553 -0.5654 -0.04385  1.628  \n",
       "\n",
       "[1000 rows x 18585 columns]"
      ]
     },
     "execution_count": 19,
     "metadata": {},
     "output_type": "execute_result"
    }
   ],
   "source": [
    "cell_gene_counts_df = pd.read_csv('data/mouse_brain_cells_gene_counts.csv', index_col='cell')\n",
    "cell_gene_counts_df"
   ]
  },
  {
   "cell_type": "markdown",
   "id": "20373fe7",
   "metadata": {
    "id": "20373fe7"
   },
   "source": [
    "Note the dimensionality - we have 1000 cells (observations) and 18,585 genes (features)!\n",
    "\n",
    "We are also provided a metadata file with annotations for each cell (e.g. cell type, subtissue, mouse sex, etc.)"
   ]
  },
  {
   "cell_type": "code",
   "execution_count": 20,
   "id": "a66d658b",
   "metadata": {
    "ExecuteTime": {
     "end_time": "2021-11-16T21:45:46.321274Z",
     "start_time": "2021-11-16T21:45:46.297026Z"
    },
    "colab": {
     "base_uri": "https://localhost:8080/",
     "height": 424
    },
    "executionInfo": {
     "elapsed": 426,
     "status": "ok",
     "timestamp": 1638932618021,
     "user": {
      "displayName": "Vaibhav Bagri",
      "photoUrl": "https://lh3.googleusercontent.com/a-/AOh14Ghw6hfPedFogHWOSQR18xC_6FJkdR3DEdY3wb45=s64",
      "userId": "06256819027384292082"
     },
     "user_tz": 300
    },
    "id": "a66d658b",
    "outputId": "be37c1e7-3f32-4b0a-b72f-b977e3d935af"
   },
   "outputs": [
    {
     "data": {
      "text/html": [
       "<div>\n",
       "<style scoped>\n",
       "    .dataframe tbody tr th:only-of-type {\n",
       "        vertical-align: middle;\n",
       "    }\n",
       "\n",
       "    .dataframe tbody tr th {\n",
       "        vertical-align: top;\n",
       "    }\n",
       "\n",
       "    .dataframe thead th {\n",
       "        text-align: right;\n",
       "    }\n",
       "</style>\n",
       "<table border=\"1\" class=\"dataframe\">\n",
       "  <thead>\n",
       "    <tr style=\"text-align: right;\">\n",
       "      <th></th>\n",
       "      <th>cell</th>\n",
       "      <th>cell_ontology_class</th>\n",
       "      <th>subtissue</th>\n",
       "      <th>mouse.sex</th>\n",
       "      <th>mouse.id</th>\n",
       "      <th>plate.barcode</th>\n",
       "      <th>n_genes</th>\n",
       "      <th>n_counts</th>\n",
       "    </tr>\n",
       "  </thead>\n",
       "  <tbody>\n",
       "    <tr>\n",
       "      <th>0</th>\n",
       "      <td>A1.B003290.3_38_F.1.1</td>\n",
       "      <td>astrocyte</td>\n",
       "      <td>Striatum</td>\n",
       "      <td>F</td>\n",
       "      <td>3_38_F</td>\n",
       "      <td>B003290</td>\n",
       "      <td>3359</td>\n",
       "      <td>390075.0</td>\n",
       "    </tr>\n",
       "    <tr>\n",
       "      <th>1</th>\n",
       "      <td>A1.B003728.3_56_F.1.1</td>\n",
       "      <td>astrocyte</td>\n",
       "      <td>Striatum</td>\n",
       "      <td>F</td>\n",
       "      <td>3_56_F</td>\n",
       "      <td>B003728</td>\n",
       "      <td>1718</td>\n",
       "      <td>776436.0</td>\n",
       "    </tr>\n",
       "    <tr>\n",
       "      <th>2</th>\n",
       "      <td>A1.MAA000560.3_10_M.1.1</td>\n",
       "      <td>oligodendrocyte</td>\n",
       "      <td>Cortex</td>\n",
       "      <td>M</td>\n",
       "      <td>3_10_M</td>\n",
       "      <td>MAA000560</td>\n",
       "      <td>3910</td>\n",
       "      <td>1616084.0</td>\n",
       "    </tr>\n",
       "    <tr>\n",
       "      <th>3</th>\n",
       "      <td>A1.MAA000564.3_10_M.1.1</td>\n",
       "      <td>endothelial cell</td>\n",
       "      <td>Striatum</td>\n",
       "      <td>M</td>\n",
       "      <td>3_10_M</td>\n",
       "      <td>MAA000564</td>\n",
       "      <td>4352</td>\n",
       "      <td>360004.0</td>\n",
       "    </tr>\n",
       "    <tr>\n",
       "      <th>4</th>\n",
       "      <td>A1.MAA000923.3_9_M.1.1</td>\n",
       "      <td>astrocyte</td>\n",
       "      <td>Hippocampus</td>\n",
       "      <td>M</td>\n",
       "      <td>3_9_M</td>\n",
       "      <td>MAA000923</td>\n",
       "      <td>2248</td>\n",
       "      <td>290282.0</td>\n",
       "    </tr>\n",
       "    <tr>\n",
       "      <th>...</th>\n",
       "      <td>...</td>\n",
       "      <td>...</td>\n",
       "      <td>...</td>\n",
       "      <td>...</td>\n",
       "      <td>...</td>\n",
       "      <td>...</td>\n",
       "      <td>...</td>\n",
       "      <td>...</td>\n",
       "    </tr>\n",
       "    <tr>\n",
       "      <th>995</th>\n",
       "      <td>E2.MAA000902.3_11_M.1.1</td>\n",
       "      <td>astrocyte</td>\n",
       "      <td>Striatum</td>\n",
       "      <td>M</td>\n",
       "      <td>3_11_M</td>\n",
       "      <td>MAA000902</td>\n",
       "      <td>3026</td>\n",
       "      <td>3134463.0</td>\n",
       "    </tr>\n",
       "    <tr>\n",
       "      <th>996</th>\n",
       "      <td>E2.MAA000926.3_9_M.1.1</td>\n",
       "      <td>oligodendrocyte</td>\n",
       "      <td>Cortex</td>\n",
       "      <td>M</td>\n",
       "      <td>3_9_M</td>\n",
       "      <td>MAA000926</td>\n",
       "      <td>3085</td>\n",
       "      <td>744301.0</td>\n",
       "    </tr>\n",
       "    <tr>\n",
       "      <th>997</th>\n",
       "      <td>E2.MAA000932.3_11_M.1.1</td>\n",
       "      <td>endothelial cell</td>\n",
       "      <td>Hippocampus</td>\n",
       "      <td>M</td>\n",
       "      <td>3_11_M</td>\n",
       "      <td>MAA000932</td>\n",
       "      <td>2277</td>\n",
       "      <td>519257.0</td>\n",
       "    </tr>\n",
       "    <tr>\n",
       "      <th>998</th>\n",
       "      <td>E2.MAA000944.3_9_M.1.1</td>\n",
       "      <td>oligodendrocyte</td>\n",
       "      <td>Cortex</td>\n",
       "      <td>M</td>\n",
       "      <td>3_9_M</td>\n",
       "      <td>MAA000944</td>\n",
       "      <td>3234</td>\n",
       "      <td>1437895.0</td>\n",
       "    </tr>\n",
       "    <tr>\n",
       "      <th>999</th>\n",
       "      <td>E2.MAA001894.3_39_F.1.1</td>\n",
       "      <td>oligodendrocyte</td>\n",
       "      <td>Cortex</td>\n",
       "      <td>F</td>\n",
       "      <td>3_39_F</td>\n",
       "      <td>MAA001894</td>\n",
       "      <td>3375</td>\n",
       "      <td>885166.0</td>\n",
       "    </tr>\n",
       "  </tbody>\n",
       "</table>\n",
       "<p>1000 rows × 8 columns</p>\n",
       "</div>"
      ],
      "text/plain": [
       "                        cell cell_ontology_class    subtissue mouse.sex  \\\n",
       "0      A1.B003290.3_38_F.1.1           astrocyte     Striatum         F   \n",
       "1      A1.B003728.3_56_F.1.1           astrocyte     Striatum         F   \n",
       "2    A1.MAA000560.3_10_M.1.1     oligodendrocyte       Cortex         M   \n",
       "3    A1.MAA000564.3_10_M.1.1    endothelial cell     Striatum         M   \n",
       "4     A1.MAA000923.3_9_M.1.1           astrocyte  Hippocampus         M   \n",
       "..                       ...                 ...          ...       ...   \n",
       "995  E2.MAA000902.3_11_M.1.1           astrocyte     Striatum         M   \n",
       "996   E2.MAA000926.3_9_M.1.1     oligodendrocyte       Cortex         M   \n",
       "997  E2.MAA000932.3_11_M.1.1    endothelial cell  Hippocampus         M   \n",
       "998   E2.MAA000944.3_9_M.1.1     oligodendrocyte       Cortex         M   \n",
       "999  E2.MAA001894.3_39_F.1.1     oligodendrocyte       Cortex         F   \n",
       "\n",
       "    mouse.id plate.barcode  n_genes   n_counts  \n",
       "0     3_38_F       B003290     3359   390075.0  \n",
       "1     3_56_F       B003728     1718   776436.0  \n",
       "2     3_10_M     MAA000560     3910  1616084.0  \n",
       "3     3_10_M     MAA000564     4352   360004.0  \n",
       "4      3_9_M     MAA000923     2248   290282.0  \n",
       "..       ...           ...      ...        ...  \n",
       "995   3_11_M     MAA000902     3026  3134463.0  \n",
       "996    3_9_M     MAA000926     3085   744301.0  \n",
       "997   3_11_M     MAA000932     2277   519257.0  \n",
       "998    3_9_M     MAA000944     3234  1437895.0  \n",
       "999   3_39_F     MAA001894     3375   885166.0  \n",
       "\n",
       "[1000 rows x 8 columns]"
      ]
     },
     "execution_count": 20,
     "metadata": {},
     "output_type": "execute_result"
    }
   ],
   "source": [
    "cell_metadata_df = pd.read_csv('data/mouse_brain_cells_metadata.csv')\n",
    "cell_metadata_df"
   ]
  },
  {
   "cell_type": "markdown",
   "id": "ad43e879",
   "metadata": {
    "id": "ad43e879"
   },
   "source": [
    "Different cell types"
   ]
  },
  {
   "cell_type": "code",
   "execution_count": 21,
   "id": "b432c73b",
   "metadata": {
    "ExecuteTime": {
     "end_time": "2021-11-16T21:45:46.336709Z",
     "start_time": "2021-11-16T21:45:46.324823Z"
    },
    "colab": {
     "base_uri": "https://localhost:8080/"
    },
    "executionInfo": {
     "elapsed": 150,
     "status": "ok",
     "timestamp": 1638932627486,
     "user": {
      "displayName": "Vaibhav Bagri",
      "photoUrl": "https://lh3.googleusercontent.com/a-/AOh14Ghw6hfPedFogHWOSQR18xC_6FJkdR3DEdY3wb45=s64",
      "userId": "06256819027384292082"
     },
     "user_tz": 300
    },
    "id": "b432c73b",
    "outputId": "5fac0e3d-990a-49d3-a0e4-e37c738d1a1d"
   },
   "outputs": [
    {
     "data": {
      "text/plain": [
       "oligodendrocyte                   385\n",
       "endothelial cell                  264\n",
       "astrocyte                         135\n",
       "neuron                             94\n",
       "brain pericyte                     58\n",
       "oligodendrocyte precursor cell     54\n",
       "Bergmann glial cell                10\n",
       "Name: cell_ontology_class, dtype: int64"
      ]
     },
     "execution_count": 21,
     "metadata": {},
     "output_type": "execute_result"
    }
   ],
   "source": [
    "cell_metadata_df['cell_ontology_class'].value_counts()"
   ]
  },
  {
   "cell_type": "markdown",
   "id": "8624ffb4",
   "metadata": {
    "id": "8624ffb4"
   },
   "source": [
    "Different subtissue types (parts of the brain)"
   ]
  },
  {
   "cell_type": "code",
   "execution_count": 22,
   "id": "f0103c84",
   "metadata": {
    "ExecuteTime": {
     "end_time": "2021-11-16T21:45:46.347051Z",
     "start_time": "2021-11-16T21:45:46.339039Z"
    },
    "colab": {
     "base_uri": "https://localhost:8080/"
    },
    "executionInfo": {
     "elapsed": 119,
     "status": "ok",
     "timestamp": 1638932628746,
     "user": {
      "displayName": "Vaibhav Bagri",
      "photoUrl": "https://lh3.googleusercontent.com/a-/AOh14Ghw6hfPedFogHWOSQR18xC_6FJkdR3DEdY3wb45=s64",
      "userId": "06256819027384292082"
     },
     "user_tz": 300
    },
    "id": "f0103c84",
    "outputId": "c43b5cfb-ef8d-4344-8371-42ebb2b02d67"
   },
   "outputs": [
    {
     "data": {
      "text/plain": [
       "Cortex         364\n",
       "Hippocampus    273\n",
       "Striatum       220\n",
       "Cerebellum     143\n",
       "Name: subtissue, dtype: int64"
      ]
     },
     "execution_count": 22,
     "metadata": {},
     "output_type": "execute_result"
    }
   ],
   "source": [
    "cell_metadata_df['subtissue'].value_counts()"
   ]
  },
  {
   "cell_type": "markdown",
   "id": "0fb01d74",
   "metadata": {
    "id": "0fb01d74"
   },
   "source": [
    "Our goal in this exercise is to use dimensionality reduction and clustering to visualize and better understand the high-dimensional gene expression matrix. We will use the following pipeline, which is common in single-cell analysis:\n",
    "1. Use PCA to project the gene expression matrix to a lower-dimensional linear subspace.\n",
    "2. Cluster the data using K-means on the first 20 principal components.\n",
    "3. Use t-SNE to project the first 20 principal components onto two dimensions. Visualize the points and color by their clusters from (2)."
   ]
  },
  {
   "cell_type": "markdown",
   "id": "c804ee02",
   "metadata": {
    "id": "c804ee02"
   },
   "source": [
    "## 1 PCA"
   ]
  },
  {
   "cell_type": "markdown",
   "id": "e6351189",
   "metadata": {
    "id": "e6351189"
   },
   "source": [
    "**Q1. Perform PCA and project the gene expression matrix onto its first 50 principal components. You may use `sklearn.decomposition.PCA`.**"
   ]
  },
  {
   "cell_type": "code",
   "execution_count": 23,
   "id": "797f5576",
   "metadata": {
    "ExecuteTime": {
     "end_time": "2021-11-16T21:45:50.403494Z",
     "start_time": "2021-11-16T21:45:46.349165Z"
    },
    "colab": {
     "base_uri": "https://localhost:8080/"
    },
    "executionInfo": {
     "elapsed": 3681,
     "status": "ok",
     "timestamp": 1638932635984,
     "user": {
      "displayName": "Vaibhav Bagri",
      "photoUrl": "https://lh3.googleusercontent.com/a-/AOh14Ghw6hfPedFogHWOSQR18xC_6FJkdR3DEdY3wb45=s64",
      "userId": "06256819027384292082"
     },
     "user_tz": 300
    },
    "id": "797f5576",
    "outputId": "6067ad39-73a5-4f6e-e79f-160c75794512"
   },
   "outputs": [],
   "source": [
    "### Your code here"
   ]
  },
  {
   "cell_type": "markdown",
   "id": "fde52e4f",
   "metadata": {
    "id": "fde52e4f"
   },
   "source": [
    "**Q2. Plot the cumulative proportion of variance explained as a function of the number of principal components. How much of the total variance in the dataset is explained by the first 20 principal components?**"
   ]
  },
  {
   "cell_type": "code",
   "execution_count": 24,
   "id": "b6462f1c",
   "metadata": {
    "ExecuteTime": {
     "end_time": "2021-11-16T21:45:50.770236Z",
     "start_time": "2021-11-16T21:45:50.408695Z"
    },
    "colab": {
     "base_uri": "https://localhost:8080/",
     "height": 354
    },
    "executionInfo": {
     "elapsed": 523,
     "status": "ok",
     "timestamp": 1638932637243,
     "user": {
      "displayName": "Vaibhav Bagri",
      "photoUrl": "https://lh3.googleusercontent.com/a-/AOh14Ghw6hfPedFogHWOSQR18xC_6FJkdR3DEdY3wb45=s64",
      "userId": "06256819027384292082"
     },
     "user_tz": 300
    },
    "id": "b6462f1c",
    "outputId": "fee10fb9-d035-4ae3-a588-818264c9d577"
   },
   "outputs": [],
   "source": [
    "### Your code here"
   ]
  },
  {
   "cell_type": "markdown",
   "id": "c9638146",
   "metadata": {
    "id": "c9638146"
   },
   "source": [
    "**Q3. For the first principal component, report the top 10 loadings (weights) and their corresponding gene names.** In other words, which 10 genes are weighted the most in the first principal component?"
   ]
  },
  {
   "cell_type": "code",
   "execution_count": 25,
   "id": "ad3f4a4a",
   "metadata": {
    "ExecuteTime": {
     "end_time": "2021-11-16T21:45:50.831095Z",
     "start_time": "2021-11-16T21:45:50.773844Z"
    },
    "colab": {
     "base_uri": "https://localhost:8080/",
     "height": 363
    },
    "executionInfo": {
     "elapsed": 107,
     "status": "ok",
     "timestamp": 1638932638807,
     "user": {
      "displayName": "Vaibhav Bagri",
      "photoUrl": "https://lh3.googleusercontent.com/a-/AOh14Ghw6hfPedFogHWOSQR18xC_6FJkdR3DEdY3wb45=s64",
      "userId": "06256819027384292082"
     },
     "user_tz": 300
    },
    "id": "ad3f4a4a",
    "outputId": "d888edfc-73f0-46b0-a351-db94211421ed"
   },
   "outputs": [],
   "source": [
    "### Your code here"
   ]
  },
  {
   "cell_type": "markdown",
   "id": "81754995",
   "metadata": {
    "id": "81754995"
   },
   "source": [
    "**Q4. Plot the projection of the data onto the first two principal components using a scatter plot.**"
   ]
  },
  {
   "cell_type": "code",
   "execution_count": 26,
   "id": "df9c5d79",
   "metadata": {
    "ExecuteTime": {
     "end_time": "2021-11-16T21:45:51.178648Z",
     "start_time": "2021-11-16T21:45:50.838403Z"
    },
    "colab": {
     "base_uri": "https://localhost:8080/",
     "height": 371
    },
    "executionInfo": {
     "elapsed": 509,
     "status": "ok",
     "timestamp": 1638932641045,
     "user": {
      "displayName": "Vaibhav Bagri",
      "photoUrl": "https://lh3.googleusercontent.com/a-/AOh14Ghw6hfPedFogHWOSQR18xC_6FJkdR3DEdY3wb45=s64",
      "userId": "06256819027384292082"
     },
     "user_tz": 300
    },
    "id": "df9c5d79",
    "outputId": "59a5c5ea-1afd-48c0-afc5-acaa67c04653"
   },
   "outputs": [],
   "source": [
    "### Your code here"
   ]
  },
  {
   "cell_type": "markdown",
   "id": "2f221586",
   "metadata": {
    "id": "2f221586"
   },
   "source": [
    "**Q5. Now, use a small multiple of four scatter plots to make the same plot as above, but colored by four annotations in the metadata: cell_ontology_class, subtissue, mouse.sex, mouse.id. Include a legend for the labels.** For example, one of the plots should have points projected onto PC 1 and PC 2, colored by their cell_ontology_class."
   ]
  },
  {
   "cell_type": "code",
   "execution_count": 27,
   "id": "2805c843",
   "metadata": {
    "ExecuteTime": {
     "end_time": "2021-11-16T21:45:52.521447Z",
     "start_time": "2021-11-16T21:45:51.185643Z"
    },
    "colab": {
     "base_uri": "https://localhost:8080/",
     "height": 680
    },
    "executionInfo": {
     "elapsed": 1448,
     "status": "ok",
     "timestamp": 1638932645353,
     "user": {
      "displayName": "Vaibhav Bagri",
      "photoUrl": "https://lh3.googleusercontent.com/a-/AOh14Ghw6hfPedFogHWOSQR18xC_6FJkdR3DEdY3wb45=s64",
      "userId": "06256819027384292082"
     },
     "user_tz": 300
    },
    "id": "2805c843",
    "outputId": "82e19c0e-cb16-4fc6-d903-6b9ef9841eb2"
   },
   "outputs": [],
   "source": [
    "### Your code here"
   ]
  },
  {
   "cell_type": "markdown",
   "id": "abaca21a",
   "metadata": {
    "id": "abaca21a"
   },
   "source": [
    "**Q6. Based on the plots above, the first two principal components correspond to which aspect of the cells? What is the intrinsic dimension that they are describing?**"
   ]
  },
  {
   "cell_type": "code",
   "execution_count": 28,
   "id": "6119d074",
   "metadata": {
    "ExecuteTime": {
     "end_time": "2021-11-16T21:45:52.529747Z",
     "start_time": "2021-11-16T21:45:52.523633Z"
    },
    "id": "6119d074"
   },
   "outputs": [],
   "source": [
    "### Your answer here"
   ]
  },
  {
   "cell_type": "markdown",
   "id": "31268985",
   "metadata": {
    "id": "31268985"
   },
   "source": [
    "## 2 K-means"
   ]
  },
  {
   "cell_type": "markdown",
   "id": "f4b7f408",
   "metadata": {
    "id": "f4b7f408"
   },
   "source": [
    "While the annotations provide high-level information on cell type (e.g. cell_ontology_class has 7 categories), we may also be interested in finding more granular subtypes of cells. To achieve this, we will use K-means clustering to find a large number of clusters in the gene expression dataset. Note that the original gene expression matrix had over 18,000 noisy features, which is not ideal for clustering. So, we will perform K-means clustering on the first 20 principal components of the dataset."
   ]
  },
  {
   "cell_type": "markdown",
   "id": "4f15d930",
   "metadata": {
    "id": "4f15d930"
   },
   "source": [
    "**Q7. Implement a `kmeans` function which takes in a dataset `X` and a number of clusters `k`, and returns the cluster assignment for each point in `X`. You may NOT use sklearn for this implementation. Use lecture 6, slide 14 as a reference.**"
   ]
  },
  {
   "cell_type": "code",
   "execution_count": 29,
   "id": "a2cb6dfa",
   "metadata": {
    "ExecuteTime": {
     "end_time": "2021-11-16T21:45:52.541185Z",
     "start_time": "2021-11-16T21:45:52.532283Z"
    },
    "id": "a2cb6dfa"
   },
   "outputs": [],
   "source": [
    "def kmeans(X, k, iters=10):\n",
    "    '''Groups the points in X into k clusters using the K-means algorithm.\n",
    "\n",
    "    Parameters\n",
    "    ----------\n",
    "    X : (m x n) data matrix\n",
    "    k: number of clusters\n",
    "    iters: number of iterations to run k-means loop\n",
    "\n",
    "    Returns\n",
    "    -------\n",
    "    y: (m x 1) cluster assignment for each point in X\n",
    "    '''\n",
    "    ### Your code here"
   ]
  },
  {
   "cell_type": "markdown",
   "id": "91d7385c",
   "metadata": {
    "id": "91d7385c"
   },
   "source": [
    "Before applying K-means on the gene expression data, we will test it on the following synthetic dataset to make sure that the implementation is working."
   ]
  },
  {
   "cell_type": "code",
   "execution_count": 30,
   "id": "4dd81225",
   "metadata": {
    "ExecuteTime": {
     "end_time": "2021-11-16T21:45:53.121592Z",
     "start_time": "2021-11-16T21:45:52.543958Z"
    },
    "colab": {
     "base_uri": "https://localhost:8080/",
     "height": 356
    },
    "executionInfo": {
     "elapsed": 528,
     "status": "ok",
     "timestamp": 1638932655427,
     "user": {
      "displayName": "Vaibhav Bagri",
      "photoUrl": "https://lh3.googleusercontent.com/a-/AOh14Ghw6hfPedFogHWOSQR18xC_6FJkdR3DEdY3wb45=s64",
      "userId": "06256819027384292082"
     },
     "user_tz": 300
    },
    "id": "4dd81225",
    "outputId": "7cd0f8c6-e490-4529-928d-374e0c73ba62"
   },
   "outputs": [
    {
     "data": {
      "text/plain": [
       "Text(0, 0.5, '$x_2$')"
      ]
     },
     "execution_count": 30,
     "metadata": {},
     "output_type": "execute_result"
    },
    {
     "data": {
      "image/png": "[encoded data removed]",
      "text/plain": [
       "<Figure size 576x360 with 1 Axes>"
      ]
     },
     "metadata": {
      "needs_background": "light"
     },
     "output_type": "display_data"
    }
   ],
   "source": [
    "np.random.seed(0)\n",
    "x_1 = np.random.multivariate_normal(mean=[1, 2], cov=np.array([[0.8, 0.6], [0.6, 0.8]]), size=100)\n",
    "x_2 = np.random.multivariate_normal(mean=[-2, -2], cov=np.array([[0.8, -0.4], [-0.4, 0.8]]), size=100)\n",
    "x_3 = np.random.multivariate_normal(mean=[2, -2], cov=np.array([[0.4, 0], [0, 0.4]]), size=100)\n",
    "X = np.vstack([x_1, x_2, x_3])\n",
    "\n",
    "plt.figure(figsize=(8, 5))\n",
    "plt.scatter(X[:, 0], X[:, 1], s=10)\n",
    "plt.xlabel('$x_1$', fontsize=15)\n",
    "plt.ylabel('$x_2$', fontsize=15)"
   ]
  },
  {
   "cell_type": "markdown",
   "id": "e5ff1e41",
   "metadata": {
    "id": "e5ff1e41"
   },
   "source": [
    "**Q8. Apply K-means with k=3 to the synthetic dataset above. Plot the points colored by their K-means cluster assignments to verify that your implementation is working.**"
   ]
  },
  {
   "cell_type": "code",
   "execution_count": 31,
   "id": "d88b93d3",
   "metadata": {
    "ExecuteTime": {
     "end_time": "2021-11-16T21:45:57.534157Z",
     "start_time": "2021-11-16T21:45:53.123910Z"
    },
    "colab": {
     "base_uri": "https://localhost:8080/",
     "height": 356
    },
    "executionInfo": {
     "elapsed": 2000,
     "status": "ok",
     "timestamp": 1638932658745,
     "user": {
      "displayName": "Vaibhav Bagri",
      "photoUrl": "https://lh3.googleusercontent.com/a-/AOh14Ghw6hfPedFogHWOSQR18xC_6FJkdR3DEdY3wb45=s64",
      "userId": "06256819027384292082"
     },
     "user_tz": 300
    },
    "id": "d88b93d3",
    "outputId": "67cb9b47-4064-4aa4-c5e0-4d932a1aaecf"
   },
   "outputs": [],
   "source": [
    "### Your code here"
   ]
  },
  {
   "cell_type": "markdown",
   "id": "d6873b82",
   "metadata": {
    "id": "d6873b82"
   },
   "source": [
    "**Q9. Use K-means with k=20 to cluster the first 20 principal components of the gene expression data.**"
   ]
  },
  {
   "cell_type": "code",
   "execution_count": 32,
   "id": "8301741f",
   "metadata": {
    "ExecuteTime": {
     "end_time": "2021-11-16T21:45:59.206233Z",
     "start_time": "2021-11-16T21:45:57.536273Z"
    },
    "id": "8301741f"
   },
   "outputs": [],
   "source": [
    "### Your code here"
   ]
  },
  {
   "cell_type": "markdown",
   "id": "93d9ff09",
   "metadata": {
    "id": "93d9ff09"
   },
   "source": [
    "## 3 t-SNE"
   ]
  },
  {
   "cell_type": "markdown",
   "id": "ffc3d202",
   "metadata": {
    "id": "ffc3d202"
   },
   "source": [
    "In this final section, we will visualize the data again using t-SNE - a non-linear dimensionality reduction algorithm. You can learn more about t-SNE in this interactive tutorial: https://distill.pub/2016/misread-tsne/."
   ]
  },
  {
   "cell_type": "markdown",
   "id": "0f407279",
   "metadata": {
    "id": "0f407279"
   },
   "source": [
    "**Q10. Use t-SNE to reduce the first 20 principal components of the gene expression dataset to two dimensions. You may use `sklearn.manifold.TSNE`.** Note that it is recommended to first perform PCA before applying t-SNE to suppress noise and speed up computation."
   ]
  },
  {
   "cell_type": "code",
   "execution_count": 33,
   "id": "75798784",
   "metadata": {
    "ExecuteTime": {
     "end_time": "2021-11-16T21:46:07.756714Z",
     "start_time": "2021-11-16T21:45:59.208498Z"
    },
    "colab": {
     "base_uri": "https://localhost:8080/"
    },
    "executionInfo": {
     "elapsed": 6534,
     "status": "ok",
     "timestamp": 1638932668537,
     "user": {
      "displayName": "Vaibhav Bagri",
      "photoUrl": "https://lh3.googleusercontent.com/a-/AOh14Ghw6hfPedFogHWOSQR18xC_6FJkdR3DEdY3wb45=s64",
      "userId": "06256819027384292082"
     },
     "user_tz": 300
    },
    "id": "75798784",
    "outputId": "dfeb91a2-c038-4b18-f200-4291810e4d03"
   },
   "outputs": [],
   "source": [
    "### Your code here"
   ]
  },
  {
   "cell_type": "markdown",
   "id": "7545e4fc",
   "metadata": {
    "id": "7545e4fc"
   },
   "source": [
    "**Q11. Plot the data (first 20 principal components) projected onto the first two t-SNE dimensions.**"
   ]
  },
  {
   "cell_type": "code",
   "execution_count": 34,
   "id": "46ac945a",
   "metadata": {
    "ExecuteTime": {
     "end_time": "2021-11-16T21:46:08.039220Z",
     "start_time": "2021-11-16T21:46:07.759433Z"
    },
    "colab": {
     "base_uri": "https://localhost:8080/",
     "height": 371
    },
    "executionInfo": {
     "elapsed": 392,
     "status": "ok",
     "timestamp": 1638932668925,
     "user": {
      "displayName": "Vaibhav Bagri",
      "photoUrl": "https://lh3.googleusercontent.com/a-/AOh14Ghw6hfPedFogHWOSQR18xC_6FJkdR3DEdY3wb45=s64",
      "userId": "06256819027384292082"
     },
     "user_tz": 300
    },
    "id": "46ac945a",
    "outputId": "7dfab49d-cea7-4ad4-af98-8de02b3672ee"
   },
   "outputs": [],
   "source": [
    "### Your code here"
   ]
  },
  {
   "cell_type": "markdown",
   "id": "749cc00b",
   "metadata": {
    "id": "749cc00b"
   },
   "source": [
    "**Q12. Plot the data (first 20 principal components) projected onto the first two t-SNE dimensions, with points colored by their cluster assignments from part 2.**"
   ]
  },
  {
   "cell_type": "code",
   "execution_count": 35,
   "id": "0310f406",
   "metadata": {
    "ExecuteTime": {
     "end_time": "2021-11-16T21:46:08.976280Z",
     "start_time": "2021-11-16T21:46:08.044229Z"
    },
    "colab": {
     "base_uri": "https://localhost:8080/",
     "height": 354
    },
    "executionInfo": {
     "elapsed": 666,
     "status": "ok",
     "timestamp": 1638932669590,
     "user": {
      "displayName": "Vaibhav Bagri",
      "photoUrl": "https://lh3.googleusercontent.com/a-/AOh14Ghw6hfPedFogHWOSQR18xC_6FJkdR3DEdY3wb45=s64",
      "userId": "06256819027384292082"
     },
     "user_tz": 300
    },
    "id": "0310f406",
    "outputId": "54c3da20-a949-4d86-e49b-aa85f3706d54"
   },
   "outputs": [],
   "source": [
    "### Your code here"
   ]
  },
  {
   "cell_type": "markdown",
   "id": "ddfb5fa8",
   "metadata": {
    "id": "ddfb5fa8"
   },
   "source": [
    "**Q13. Why is there overlap between points in different clusters in the t-SNE plot above?**"
   ]
  },
  {
   "cell_type": "code",
   "execution_count": 36,
   "id": "bfc7d1e3",
   "metadata": {
    "ExecuteTime": {
     "end_time": "2021-11-16T21:46:08.983974Z",
     "start_time": "2021-11-16T21:46:08.978391Z"
    },
    "id": "bfc7d1e3"
   },
   "outputs": [],
   "source": [
    "### Your answer here"
   ]
  },
  {
   "cell_type": "markdown",
   "id": "ef649c5b",
   "metadata": {
    "id": "ef649c5b"
   },
   "source": [
    "These 20 clusters may correspond to various cell subtypes or cell states. They can be further investigated and mapped to known cell types based on their gene expressions (e.g. using the K-means cluster centers). The clusters may also be used in downstream analysis. For instance, we can monitor how the clusters evolve and interact with each other over time in response to a treatment."
   ]
  }
 ],
 "metadata": {
  "kernelspec": {
   "display_name": "Python 3",
   "language": "python",
   "name": "python3"
  },
  "language_info": {
   "codemirror_mode": {
    "name": "ipython",
    "version": 3
   },
   "file_extension": ".py",
   "mimetype": "text/x-python",
   "name": "python",
   "nbconvert_exporter": "python",
   "pygments_lexer": "ipython3",
   "version": "3.8.8"
  }
 },
 "nbformat": 4,
 "nbformat_minor": 5
}
